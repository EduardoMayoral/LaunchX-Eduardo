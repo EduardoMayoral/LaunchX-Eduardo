{
 "cells": [
  {
   "cell_type": "code",
   "execution_count": 4,
   "metadata": {},
   "outputs": [
    {
     "name": "stdout",
     "output_type": "stream",
     "text": [
      "Asteroide llegando a la tierra\n"
     ]
    }
   ],
   "source": [
    "vel_act = 49\n",
    "vel_max = 25\n",
    "if vel_act < vel_max:\n",
    "    print (\"No hay peligro\")\n",
    "elif vel_act == vel_max:\n",
    "    print (\"Peligro\")\n",
    "else:\n",
    "    print (\"Asteroide llegando a la tierra\")\n",
    "\n",
    "\n",
    "    "
   ]
  },
  {
   "cell_type": "code",
   "execution_count": 1,
   "metadata": {},
   "outputs": [
    {
     "name": "stdout",
     "output_type": "stream",
     "text": [
      "Todo bajo control\n"
     ]
    }
   ],
   "source": [
    "vel_act = 19\n",
    "vel_max = 20\n",
    "if vel_act > vel_max:\n",
    "    print (\"Rayo de luz producido por un asteroide\")\n",
    "elif vel_act == vel_max:\n",
    "    print (\"Rayo de luz producido por un asteroide\")\n",
    "else: \n",
    "    print(\"Todo bajo control\")"
   ]
  },
  {
   "cell_type": "code",
   "execution_count": 8,
   "metadata": {},
   "outputs": [
    {
     "name": "stdout",
     "output_type": "stream",
     "text": [
      "No hay peligo\n"
     ]
    }
   ],
   "source": [
    "vel_act = 19\n",
    "vel_max = 20\n",
    "dimension_asteroide_act = 30\n",
    "dimension_asteroide_permitida = 25\n",
    "dimension_asteroide_limite = 1000\n",
    "if vel_act >= vel_max and dimension_asteroide_act > dimension_asteroide_permitida:\n",
    "    print (\"Alerta nos vamos a extinguir\")\n",
    "else:\n",
    "    print (\"No hay peligo\")"
   ]
  },
  {
   "cell_type": "code",
   "execution_count": 9,
   "metadata": {},
   "outputs": [
    {
     "name": "stdout",
     "output_type": "stream",
     "text": [
      "Todo normal\n"
     ]
    }
   ],
   "source": [
    "vel_asteoide = 30\n",
    "tam_asteoide = 12\n",
    "if vel_asteoide > 25 and tam_asteoide > 25:\n",
    "    print (\"Un asteroide viene hacia nosotroa ¡Peligro!\")\n",
    "elif vel_asteoide <= 20:\n",
    "    print (\"Rayo de luz producido por un asteroide\")\n",
    "else:\n",
    "    print (\"Todo normal\")"
   ]
  }
 ],
 "metadata": {
  "interpreter": {
   "hash": "e15c257c81e2cce12c830d37577d18a9aee02d68a4cc35d85dc21c9921678abc"
  },
  "kernelspec": {
   "display_name": "Python 3.10.2 64-bit",
   "language": "python",
   "name": "python3"
  },
  "language_info": {
   "codemirror_mode": {
    "name": "ipython",
    "version": 3
   },
   "file_extension": ".py",
   "mimetype": "text/x-python",
   "name": "python",
   "nbconvert_exporter": "python",
   "pygments_lexer": "ipython3",
   "version": "3.10.2"
  },
  "orig_nbformat": 4
 },
 "nbformat": 4,
 "nbformat_minor": 2
}
