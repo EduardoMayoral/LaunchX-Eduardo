{
 "cells": [
  {
   "cell_type": "code",
   "execution_count": 1,
   "metadata": {},
   "outputs": [],
   "source": [
    "new_planet = ''\n",
    "planets = ['mercurio', 'venus', 'tierra', 'marte', 'jupiter', 'urano', 'neptuno']"
   ]
  },
  {
   "cell_type": "code",
   "execution_count": 2,
   "metadata": {},
   "outputs": [],
   "source": [
    "while new_planet.lower() !='done':\n",
    "    if new_planet: \n",
    "        planets.append(new_planet)\n",
    "    new_planet= input('dime un planeta')"
   ]
  },
  {
   "cell_type": "code",
   "execution_count": 3,
   "metadata": {},
   "outputs": [
    {
     "name": "stdout",
     "output_type": "stream",
     "text": [
      "['mercurio', 'venus', 'tierra', 'marte', 'jupiter', 'urano', 'neptuno', 'asd', 'waas']\n"
     ]
    }
   ],
   "source": [
    "print(planets)"
   ]
  },
  {
   "cell_type": "code",
   "execution_count": 4,
   "metadata": {},
   "outputs": [
    {
     "name": "stdout",
     "output_type": "stream",
     "text": [
      "mercurio\n",
      "venus\n",
      "tierra\n",
      "marte\n",
      "jupiter\n",
      "urano\n",
      "neptuno\n",
      "asd\n",
      "waas\n"
     ]
    }
   ],
   "source": [
    "for new_planet in planets:\n",
    "    print(new_planet)"
   ]
  }
 ],
 "metadata": {
  "interpreter": {
   "hash": "e15c257c81e2cce12c830d37577d18a9aee02d68a4cc35d85dc21c9921678abc"
  },
  "kernelspec": {
   "display_name": "Python 3.10.2 64-bit",
   "language": "python",
   "name": "python3"
  },
  "language_info": {
   "codemirror_mode": {
    "name": "ipython",
    "version": 3
   },
   "file_extension": ".py",
   "mimetype": "text/x-python",
   "name": "python",
   "nbconvert_exporter": "python",
   "pygments_lexer": "ipython3",
   "version": "3.10.2"
  },
  "orig_nbformat": 4
 },
 "nbformat": 4,
 "nbformat_minor": 2
}
