{
 "cells": [
  {
   "cell_type": "code",
   "execution_count": 1,
   "metadata": {},
   "outputs": [],
   "source": [
    "tierra = 149597870\n",
    "jupiter = 778547200"
   ]
  },
  {
   "cell_type": "code",
   "execution_count": 4,
   "metadata": {},
   "outputs": [
    {
     "name": "stdout",
     "output_type": "stream",
     "text": [
      "628949330\n",
      "390577533.93\n"
     ]
    }
   ],
   "source": [
    "diferencia = jupiter - tierra\n",
    "print(diferencia)\n",
    "\n",
    "diferencia_mi = diferencia * 0.621\n",
    "print(diferencia_mi)"
   ]
  },
  {
   "cell_type": "code",
   "execution_count": 21,
   "metadata": {},
   "outputs": [],
   "source": [
    "respuesta_tierra = input (\"cual es la distancia entre el sol a la tierra\")\n",
    "respuesta_jupiter = input (\"cual es la distancia entre el sol a jupiter\")"
   ]
  },
  {
   "cell_type": "code",
   "execution_count": 22,
   "metadata": {},
   "outputs": [
    {
     "name": "stdout",
     "output_type": "stream",
     "text": [
      "149597870 778547200\n"
     ]
    }
   ],
   "source": [
    "print(respuesta_tierra, respuesta_jupiter)"
   ]
  },
  {
   "cell_type": "code",
   "execution_count": 23,
   "metadata": {},
   "outputs": [
    {
     "name": "stdout",
     "output_type": "stream",
     "text": [
      "149597870 778547200\n"
     ]
    }
   ],
   "source": [
    "respuesta_tierra = int(respuesta_tierra)\n",
    "respuesta_jupiter = int(respuesta_jupiter)\n",
    "print(respuesta_tierra, respuesta_jupiter)"
   ]
  },
  {
   "cell_type": "code",
   "execution_count": 34,
   "metadata": {},
   "outputs": [
    {
     "name": "stdout",
     "output_type": "stream",
     "text": [
      "La distancia de la tierra y jupiter es= 390577533.93 mi\n"
     ]
    }
   ],
   "source": [
    "print('La distancia de la tierra y jupiter es= ' + str (abs(respuesta_tierra - respuesta_jupiter) * 0.621) + \" mi\")"
   ]
  }
 ],
 "metadata": {
  "interpreter": {
   "hash": "e15c257c81e2cce12c830d37577d18a9aee02d68a4cc35d85dc21c9921678abc"
  },
  "kernelspec": {
   "display_name": "Python 3.10.2 64-bit",
   "language": "python",
   "name": "python3"
  },
  "language_info": {
   "codemirror_mode": {
    "name": "ipython",
    "version": 3
   },
   "file_extension": ".py",
   "mimetype": "text/x-python",
   "name": "python",
   "nbconvert_exporter": "python",
   "pygments_lexer": "ipython3",
   "version": "3.10.2"
  },
  "orig_nbformat": 4
 },
 "nbformat": 4,
 "nbformat_minor": 2
}
