{
 "cells": [
  {
   "cell_type": "code",
   "execution_count": 1,
   "metadata": {},
   "outputs": [],
   "source": [
    "def tanques_de_combustible(tanque1, tanque2, tanque3):\n",
    "    total = ((tanque1 + tanque2 + tanque3) / 3)\n",
    "    return f\"\"\" Estado de combustible:\n",
    "    Promedio: {total} %\n",
    "    Tanque 1: {tanque1} %\n",
    "    Tanque 2: {tanque2} %\n",
    "    Tanque 3: {tanque3} %\n",
    "    \"\"\"\n"
   ]
  },
  {
   "cell_type": "code",
   "execution_count": 2,
   "metadata": {},
   "outputs": [
    {
     "name": "stdout",
     "output_type": "stream",
     "text": [
      " Estado de combustible:\n",
      "    Promedio: 51.666666666666664 %\n",
      "    Tanque 1: 70 %\n",
      "    Tanque 2: 55 %\n",
      "    Tanque 3: 30 %\n",
      "    \n"
     ]
    }
   ],
   "source": [
    "print(tanques_de_combustible(70, 55, 30))"
   ]
  },
  {
   "cell_type": "code",
   "execution_count": 3,
   "metadata": {},
   "outputs": [],
   "source": [
    "def promedio_3_numeros(num1, num2, num3):\n",
    "    promedio =((num1 + num2 + num3) / 3)\n",
    "    return promedio"
   ]
  },
  {
   "cell_type": "code",
   "execution_count": 4,
   "metadata": {},
   "outputs": [],
   "source": [
    "def tanques_de_combustible(tanque1, tanque2, tanque3):\n",
    "    total = (promedio_3_numeros(tanque1,tanque2, tanque3))\n",
    "    return f\"\"\" Estado de combustible:\n",
    "    Promedio: {total} %\n",
    "    Tanque 1: {tanque1} %\n",
    "    Tanque 2: {tanque2} %\n",
    "    Tanque 3: {tanque3} %\n",
    "    \"\"\""
   ]
  },
  {
   "cell_type": "code",
   "execution_count": 5,
   "metadata": {},
   "outputs": [
    {
     "name": "stdout",
     "output_type": "stream",
     "text": [
      " Estado de combustible:\n",
      "    Promedio: 50.0 %\n",
      "    Tanque 1: 65 %\n",
      "    Tanque 2: 50 %\n",
      "    Tanque 3: 35 %\n",
      "    \n"
     ]
    }
   ],
   "source": [
    "print(tanques_de_combustible(65, 50, 35))"
   ]
  },
  {
   "cell_type": "code",
   "execution_count": 6,
   "metadata": {},
   "outputs": [],
   "source": [
    "def destino_proximo(hora_de_prelanzamiento, destino, *tanque):\n",
    "    total_tanques = sum(tanque)\n",
    "    return f\"\"\" Estado:\n",
    "    Hora de prelanzamiento: {hora_de_prelanzamiento}\n",
    "    destino: {destino}\n",
    "    litro de tanque: {total_tanques}\n",
    "\"\"\"\n"
   ]
  },
  {
   "cell_type": "code",
   "execution_count": 7,
   "metadata": {},
   "outputs": [
    {
     "name": "stdout",
     "output_type": "stream",
     "text": [
      " Estado:\n",
      "    Hora de prelanzamiento: 7:50\n",
      "    destino: Jupiter\n",
      "    litro de tanque: 105\n",
      "\n"
     ]
    }
   ],
   "source": [
    "print(destino_proximo(\"7:50\", \"Jupiter\", 25, 80))"
   ]
  },
  {
   "cell_type": "code",
   "execution_count": 13,
   "metadata": {},
   "outputs": [],
   "source": [
    "def destino_proximo(hora_de_prelanzamiento, destino, *tanque, **nombre_de_tanques):\n",
    "    total_tanques = sum(tanque)\n",
    "    tanques_nombre = list(nombre_de_tanques.values())\n",
    "    return f\"\"\" Estado:\n",
    "    Hora de prelanzamiento: {hora_de_prelanzamiento}\n",
    "    destino: {destino}\n",
    "    litro de tanque: {total_tanques}\n",
    "    Nombre de los tanques: {tanques_nombre}\n",
    "\"\"\""
   ]
  },
  {
   "cell_type": "code",
   "execution_count": 14,
   "metadata": {},
   "outputs": [
    {
     "name": "stdout",
     "output_type": "stream",
     "text": [
      " Estado:\n",
      "    Hora de prelanzamiento: 7:50\n",
      "    destino: Jupiter\n",
      "    litro de tanque: 105\n",
      "    Nombre de los tanques: ['Tanque 1', 'Tanque 2']\n",
      "\n"
     ]
    }
   ],
   "source": [
    "print(destino_proximo('7:50', 'Jupiter', 25, 80, tanque1 = 'Tanque 1', tanque2 = 'Tanque 2'))"
   ]
  }
 ],
 "metadata": {
  "interpreter": {
   "hash": "e15c257c81e2cce12c830d37577d18a9aee02d68a4cc35d85dc21c9921678abc"
  },
  "kernelspec": {
   "display_name": "Python 3.10.2 64-bit",
   "language": "python",
   "name": "python3"
  },
  "language_info": {
   "codemirror_mode": {
    "name": "ipython",
    "version": 3
   },
   "file_extension": ".py",
   "mimetype": "text/x-python",
   "name": "python",
   "nbconvert_exporter": "python",
   "pygments_lexer": "ipython3",
   "version": "3.10.2"
  },
  "orig_nbformat": 4
 },
 "nbformat": 4,
 "nbformat_minor": 2
}
