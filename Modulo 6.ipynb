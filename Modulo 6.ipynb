{
 "cells": [
  {
   "cell_type": "code",
   "execution_count": 3,
   "metadata": {},
   "outputs": [],
   "source": [
    "planetas = ['mercurio', 'venus', 'tierra', 'marte', 'jupiter', 'urano', 'neptuno']"
   ]
  },
  {
   "cell_type": "code",
   "execution_count": 6,
   "metadata": {},
   "outputs": [
    {
     "name": "stdout",
     "output_type": "stream",
     "text": [
      "En el sistema solar hay 7 planetas\n"
     ]
    }
   ],
   "source": [
    "numero_de_planetas= len(planetas)\n",
    "print('En el sistema solar hay', numero_de_planetas, 'planetas')"
   ]
  },
  {
   "cell_type": "code",
   "execution_count": 36,
   "metadata": {},
   "outputs": [
    {
     "name": "stdout",
     "output_type": "stream",
     "text": [
      "pluton es el ultimo planeta\n"
     ]
    }
   ],
   "source": [
    "planetas.append('pluton')\n",
    "print(planetas[-1], 'es el ultimo planeta')"
   ]
  },
  {
   "cell_type": "code",
   "execution_count": 2,
   "metadata": {},
   "outputs": [],
   "source": [
    "planetas = ['mercurio', 'venus', 'tierra', 'marte', 'jupiter', 'urano', 'neptuno']"
   ]
  },
  {
   "cell_type": "code",
   "execution_count": 3,
   "metadata": {},
   "outputs": [
    {
     "name": "stdout",
     "output_type": "stream",
     "text": [
      "['mercurio', 'venus', 'tierra', 'marte']\n"
     ]
    }
   ],
   "source": [
    "respuesta_planeta = input('dime un planeta')\n",
    "dime_un_planeta = planetas.index(respuesta_planeta)\n",
    "planetas_antes_del_nombrado = planetas[0 : dime_un_planeta]\n",
    "print(planetas_antes_del_nombrado)\n"
   ]
  },
  {
   "cell_type": "code",
   "execution_count": 33,
   "metadata": {},
   "outputs": [
    {
     "name": "stdout",
     "output_type": "stream",
     "text": [
      "['marte', 'jupiter', 'urano', 'neptuno']\n"
     ]
    }
   ],
   "source": [
    "respuesta_planeta_lejano = input('dime un planeta')\n",
    "dime_un_planeta = planetas.index(respuesta_planeta_lejano)\n",
    "planetas_despues_del_nombrado = planetas[dime_un_planeta + 1 : 8]\n",
    "print(planetas_despues_del_nombrado)\n"
   ]
  }
 ],
 "metadata": {
  "interpreter": {
   "hash": "e15c257c81e2cce12c830d37577d18a9aee02d68a4cc35d85dc21c9921678abc"
  },
  "kernelspec": {
   "display_name": "Python 3.10.2 64-bit",
   "language": "python",
   "name": "python3"
  },
  "language_info": {
   "codemirror_mode": {
    "name": "ipython",
    "version": 3
   },
   "file_extension": ".py",
   "mimetype": "text/x-python",
   "name": "python",
   "nbconvert_exporter": "python",
   "pygments_lexer": "ipython3",
   "version": "3.10.2"
  },
  "orig_nbformat": 4
 },
 "nbformat": 4,
 "nbformat_minor": 2
}
